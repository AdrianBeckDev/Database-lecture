{
 "cells": [
  {
   "cell_type": "code",
   "execution_count": 12,
   "metadata": {},
   "outputs": [],
   "source": [
    "import mysql.connector\n",
    "from mysql.connector import Error\n",
    "import pandas as pd"
   ]
  },
  {
   "cell_type": "markdown",
   "metadata": {},
   "source": [
    "## Eurotrans database demonstration\n",
    "\n",
    "This is a little notebook created for the SDM class to demonstrate little operations within a sql database.\n",
    "You need to install a few packages and a mysql database on your pc. This can be done only with mysql server package or with phpmyadmin etc.\n",
    "\n",
    "WORKS ON UBUNTU 20.04 LTS\n",
    "\n",
    "$ sudo apt install mysql-server python-pip\n",
    "\n",
    "\n",
    "RECOMMEND USING ANACONDA\n",
    "\n",
    "$ conda create --name mysql_env\n",
    "$ conda activate mysql_env\n",
    "$ conda install -c anaconda mysql-connector-python"
   ]
  },
  {
   "cell_type": "markdown",
   "metadata": {},
   "source": [
    "INSTALL WITH PIP (MAYBE CRASHES)"
   ]
  },
  {
   "cell_type": "code",
   "execution_count": null,
   "metadata": {},
   "outputs": [],
   "source": [
    "!pip3 install mysql-connector-python pandas "
   ]
  },
  {
   "cell_type": "code",
   "execution_count": 1,
   "metadata": {},
   "outputs": [],
   "source": [
    "## Connect to Database \n",
    "\n",
    "def create_server_connection(host_name, user_name, user_password,db_name):\n",
    "    connection = None\n",
    "    try:\n",
    "        connection = mysql.connector.connect(\n",
    "            host=host_name,\n",
    "            user=user_name,\n",
    "            passwd=user_password,\n",
    "            database=db_name\n",
    "        )\n",
    "        print(\"MySQL Database connection successful\")\n",
    "    except Error as err:\n",
    "        print(f\"Error: '{err}'\")\n",
    "\n",
    "    return connection"
   ]
  },
  {
   "cell_type": "code",
   "execution_count": 2,
   "metadata": {},
   "outputs": [],
   "source": [
    "## Create Database\n",
    "\n",
    "def create_database(connection, query):\n",
    "    cursor = connection.cursor()\n",
    "    try:\n",
    "        cursor.execute(query)\n",
    "        print(\"Database created successfully\")\n",
    "    except Error as err:\n",
    "        print(f\"Error: '{err}'\")"
   ]
  },
  {
   "cell_type": "code",
   "execution_count": null,
   "metadata": {},
   "outputs": [],
   "source": [
    "## Creating a query function\n",
    "\n",
    "def execute_query(connection, query):\n",
    "    cursor = connection.cursor()\n",
    "    try:\n",
    "        cursor.execute(query)\n",
    "        connection.commit()\n",
    "        print(\"Query successful\")\n",
    "    except Error as err:\n",
    "        print(f\"Error: '{err}'\")\n",
    "        "
   ]
  },
  {
   "cell_type": "code",
   "execution_count": null,
   "metadata": {},
   "outputs": [],
   "source": [
    "## function for reading querys\n",
    "\n",
    "def read_query(connection, query):\n",
    "    cursor = connection.cursor()\n",
    "    result = None\n",
    "    try:\n",
    "        cursor.execute(query)\n",
    "        result = cursor.fetchall()\n",
    "        return result\n",
    "    except Error as err:\n",
    "        print(f\"Error: '{err}'\")"
   ]
  },
  {
   "cell_type": "code",
   "execution_count": null,
   "metadata": {},
   "outputs": [],
   "source": [
    "## Creating tables \n",
    "\n",
    "create_patients_table = \"\"\"\n",
    "CREATE TABLE patients (\n",
    "  patient_id INT PRIMARY KEY,\n",
    "  first_name VARCHAR(40) NOT NULL,\n",
    "  last_name VARCHAR(40) NOT NULL,\n",
    "  hospital VARCHAR(40) NOT NULL,\n",
    "  success_rate VARCHAR(10),\n",
    "  age VARCHAR(10),\n",
    "  health VARCHAR(100),\n",
    "  physician VARCHAR(100),\n",
    "  dob DATE,\n",
    "  phone_no VARCHAR(20)\n",
    "  );\n",
    " \"\"\"\n",
    "\n",
    "\n",
    "create_organs_table = \"\"\"\n",
    "CREATE TABLE organs(\n",
    "  organ_id INT PRMARY KEY,\n",
    "  organ_status VARCHAR(10) NOT NULL,\n",
    "  organ_health VARCHAR(10),\n",
    "  organ_type VARCHAR(10) NOT NULL,\n",
    "  organ_time VARCHAR(10) NOT NULL,\n",
    "  organ_physican VARCHAR(10) NOT NULL,\n",
    "  organ_hospital VARCHAR(10) NOT NULL,\n",
    "  organ_location VARCHAR(10) NOT NULL,\n",
    "  organ_transport_time(100) NOT NULL\n",
    "  dob DATE,\n",
    " );\n",
    "\"\"\"\n",
    "\n",
    "#Connect to database \n",
    "\n",
    "connection = create_db_connection(\"localhost\", \"root\", pw, db) # Connect to the Database\n",
    "execute_query(connection, create_patients_table)\n",
    "execute_query(connection, create_organs_table)\n",
    "\n"
   ]
  },
  {
   "cell_type": "code",
   "execution_count": null,
   "metadata": {},
   "outputs": [],
   "source": [
    "## Populating Tables\n",
    "\n",
    "pop_patients = \"\"\"\n",
    "(1, \"Guenther\", \"Schmitz\", \"St. Maria Hospital\", \"5\", \"55\", \"Schlaganfall\", \"Dr. James Smith\", '2000-03-03', \"+4912345678\")\n",
    "(2, \"\",\"\",\"\",\"\",\"\",\"\",\"\")\n",
    "\n",
    "\"\"\"\n",
    "\n",
    "\n",
    "pop_organs = \"\"\"\n",
    "(1, \"Organ in operation process\", \"good\", \"Heart\", \"2 hours\", \"Dr. Jack Jones\", \"Martinus Hospital\", \"Cologne\", \"2 hours\", \"6 hours\")\n",
    "\"\"\""
   ]
  },
  {
   "cell_type": "code",
   "execution_count": null,
   "metadata": {},
   "outputs": [],
   "source": [
    "# Execute query\n",
    "\n",
    "execute_query(connection, pop_patients)\n",
    "execute_query(connection, pop_organs)"
   ]
  },
  {
   "cell_type": "code",
   "execution_count": null,
   "metadata": {},
   "outputs": [],
   "source": [
    "# Formatting OUTPUT into List\n",
    "xx =\"\"\" \n",
    "SELECT patients.patients_id, patient.first_name, patient.last_name,\n",
    "  patient.hospital,\n",
    "  patient.success_rate,\n",
    "  patient.age,\n",
    "  patient.health,\n",
    "  patient.physician,\n",
    "  patient.dob,\n",
    "  patient.phone_no\n",
    "  \n",
    "FROM patients\n",
    "JOIN organs\n",
    "ON patients.organs = organs.organs_id\n",
    "\"\"\"\n",
    "\n",
    "connection = create_db_connection(\"localhost\", \"root\", \"\", db)\n",
    "results = read_query(connection, xx)\n",
    "\n",
    "from_db = []\n",
    "\n",
    "for result in results:\n",
    "  result = result\n",
    "  from_db.append(result)"
   ]
  },
  {
   "cell_type": "code",
   "execution_count": null,
   "metadata": {},
   "outputs": [],
   "source": [
    "# Make it look better\n",
    "\n",
    "columns = [\"patient_id\", \"patient_first_name\", \"patient_last_name\", \"hostpital\", \"succes_rate\", \"Age\", \"Health\", \"Physican\", \"\",\"\",\"\"]\n",
    "df = pd.DataFrame(from_db, columns=columns)\n"
   ]
  },
  {
   "cell_type": "code",
   "execution_count": null,
   "metadata": {},
   "outputs": [],
   "source": [
    "# Show current DB\n",
    "\n",
    "df = pd.DATAFRAME(from_db, columns=columns)\n",
    "display(df)"
   ]
  }
 ],
 "metadata": {
  "kernelspec": {
   "display_name": "Python 3",
   "language": "python",
   "name": "python3"
  },
  "language_info": {
   "codemirror_mode": {
    "name": "ipython",
    "version": 3
   },
   "file_extension": ".py",
   "mimetype": "text/x-python",
   "name": "python",
   "nbconvert_exporter": "python",
   "pygments_lexer": "ipython3",
   "version": "3.8.3"
  }
 },
 "nbformat": 4,
 "nbformat_minor": 4
}
